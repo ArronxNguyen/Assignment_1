{
 "cells": [
  {
   "cell_type": "code",
   "execution_count": 40,
   "metadata": {},
   "outputs": [],
   "source": [
    "%matplotlib notebook\n",
    "%matplotlib inline\n",
    "\n",
    "# Dependencies and Setup\n",
    "import matplotlib.pyplot as plt\n",
    "import pandas as pd\n",
    "import scipy.stats as st\n",
    "import scipy.stats as stats\n",
    "import numpy as np\n"
   ]
  },
  {
   "cell_type": "code",
   "execution_count": 41,
   "metadata": {},
   "outputs": [
    {
     "name": "stderr",
     "output_type": "stream",
     "text": [
      "C:\\Users\\arron\\anaconda3\\lib\\site-packages\\IPython\\core\\interactiveshell.py:3146: DtypeWarning: Columns (0,1) have mixed types.Specify dtype option on import or set low_memory=False.\n",
      "  has_raised = await self.run_ast_nodes(code_ast.body, cell_name,\n"
     ]
    }
   ],
   "source": [
    "# data files\n",
    "Covid19_case_report_2020 = \"data/covid-19-all.csv\"\n",
    "\n",
    "# Read the mouse data and the study results\n",
    "Covid19_case_report_2020 = pd.read_csv(Covid19_case_report_2020)"
   ]
  },
  {
   "cell_type": "code",
   "execution_count": 42,
   "metadata": {},
   "outputs": [
    {
     "data": {
      "text/html": [
       "<div>\n",
       "<style scoped>\n",
       "    .dataframe tbody tr th:only-of-type {\n",
       "        vertical-align: middle;\n",
       "    }\n",
       "\n",
       "    .dataframe tbody tr th {\n",
       "        vertical-align: top;\n",
       "    }\n",
       "\n",
       "    .dataframe thead th {\n",
       "        text-align: right;\n",
       "    }\n",
       "</style>\n",
       "<table border=\"1\" class=\"dataframe\">\n",
       "  <thead>\n",
       "    <tr style=\"text-align: right;\">\n",
       "      <th></th>\n",
       "      <th>Country/Region</th>\n",
       "      <th>Province/State</th>\n",
       "      <th>Latitude</th>\n",
       "      <th>Longitude</th>\n",
       "      <th>Confirmed</th>\n",
       "      <th>Recovered</th>\n",
       "      <th>Deaths</th>\n",
       "      <th>Date</th>\n",
       "    </tr>\n",
       "  </thead>\n",
       "  <tbody>\n",
       "    <tr>\n",
       "      <th>0</th>\n",
       "      <td>NaN</td>\n",
       "      <td>NaN</td>\n",
       "      <td>NaN</td>\n",
       "      <td>NaN</td>\n",
       "      <td>51526.0</td>\n",
       "      <td>41727.0</td>\n",
       "      <td>2191.0</td>\n",
       "      <td>2021-01-01</td>\n",
       "    </tr>\n",
       "    <tr>\n",
       "      <th>1</th>\n",
       "      <td>NaN</td>\n",
       "      <td>NaN</td>\n",
       "      <td>NaN</td>\n",
       "      <td>NaN</td>\n",
       "      <td>58316.0</td>\n",
       "      <td>33634.0</td>\n",
       "      <td>1181.0</td>\n",
       "      <td>2021-01-01</td>\n",
       "    </tr>\n",
       "    <tr>\n",
       "      <th>2</th>\n",
       "      <td>NaN</td>\n",
       "      <td>NaN</td>\n",
       "      <td>NaN</td>\n",
       "      <td>NaN</td>\n",
       "      <td>99897.0</td>\n",
       "      <td>67395.0</td>\n",
       "      <td>2762.0</td>\n",
       "      <td>2021-01-01</td>\n",
       "    </tr>\n",
       "    <tr>\n",
       "      <th>3</th>\n",
       "      <td>NaN</td>\n",
       "      <td>NaN</td>\n",
       "      <td>NaN</td>\n",
       "      <td>NaN</td>\n",
       "      <td>8117.0</td>\n",
       "      <td>7463.0</td>\n",
       "      <td>84.0</td>\n",
       "      <td>2021-01-01</td>\n",
       "    </tr>\n",
       "    <tr>\n",
       "      <th>4</th>\n",
       "      <td>NaN</td>\n",
       "      <td>NaN</td>\n",
       "      <td>NaN</td>\n",
       "      <td>NaN</td>\n",
       "      <td>17568.0</td>\n",
       "      <td>11146.0</td>\n",
       "      <td>405.0</td>\n",
       "      <td>2021-01-01</td>\n",
       "    </tr>\n",
       "  </tbody>\n",
       "</table>\n",
       "</div>"
      ],
      "text/plain": [
       "  Country/Region Province/State  Latitude  Longitude  Confirmed  Recovered  \\\n",
       "0            NaN            NaN       NaN        NaN    51526.0    41727.0   \n",
       "1            NaN            NaN       NaN        NaN    58316.0    33634.0   \n",
       "2            NaN            NaN       NaN        NaN    99897.0    67395.0   \n",
       "3            NaN            NaN       NaN        NaN     8117.0     7463.0   \n",
       "4            NaN            NaN       NaN        NaN    17568.0    11146.0   \n",
       "\n",
       "   Deaths        Date  \n",
       "0  2191.0  2021-01-01  \n",
       "1  1181.0  2021-01-01  \n",
       "2  2762.0  2021-01-01  \n",
       "3    84.0  2021-01-01  \n",
       "4   405.0  2021-01-01  "
      ]
     },
     "execution_count": 42,
     "metadata": {},
     "output_type": "execute_result"
    }
   ],
   "source": [
    "Covid19_case_report_2020.head()"
   ]
  },
  {
   "cell_type": "code",
   "execution_count": 43,
   "metadata": {},
   "outputs": [],
   "source": [
    "Covid19_case_report_2020 = pd.DataFrame(Covid19_case_report_2020)"
   ]
  },
  {
   "cell_type": "code",
   "execution_count": 71,
   "metadata": {},
   "outputs": [
    {
     "data": {
      "text/html": [
       "<div>\n",
       "<style scoped>\n",
       "    .dataframe tbody tr th:only-of-type {\n",
       "        vertical-align: middle;\n",
       "    }\n",
       "\n",
       "    .dataframe tbody tr th {\n",
       "        vertical-align: top;\n",
       "    }\n",
       "\n",
       "    .dataframe thead th {\n",
       "        text-align: right;\n",
       "    }\n",
       "</style>\n",
       "<table border=\"1\" class=\"dataframe\">\n",
       "  <thead>\n",
       "    <tr style=\"text-align: right;\">\n",
       "      <th></th>\n",
       "      <th>Country/Region</th>\n",
       "      <th>Province/State</th>\n",
       "      <th>Latitude</th>\n",
       "      <th>Longitude</th>\n",
       "      <th>Confirmed</th>\n",
       "      <th>Recovered</th>\n",
       "      <th>Deaths</th>\n",
       "      <th>Date</th>\n",
       "    </tr>\n",
       "  </thead>\n",
       "  <tbody>\n",
       "    <tr>\n",
       "      <th>87582</th>\n",
       "      <td>Australia</td>\n",
       "      <td>NaN</td>\n",
       "      <td>-33.8688</td>\n",
       "      <td>144.9631</td>\n",
       "      <td>NaN</td>\n",
       "      <td>NaN</td>\n",
       "      <td>NaN</td>\n",
       "      <td>2020-01-23</td>\n",
       "    </tr>\n",
       "    <tr>\n",
       "      <th>95626</th>\n",
       "      <td>Australia</td>\n",
       "      <td>NaN</td>\n",
       "      <td>-33.8688</td>\n",
       "      <td>144.9631</td>\n",
       "      <td>4.0</td>\n",
       "      <td>NaN</td>\n",
       "      <td>NaN</td>\n",
       "      <td>2020-01-25</td>\n",
       "    </tr>\n",
       "    <tr>\n",
       "      <th>99651</th>\n",
       "      <td>Australia</td>\n",
       "      <td>NaN</td>\n",
       "      <td>-33.8688</td>\n",
       "      <td>144.9631</td>\n",
       "      <td>4.0</td>\n",
       "      <td>NaN</td>\n",
       "      <td>NaN</td>\n",
       "      <td>2020-01-26</td>\n",
       "    </tr>\n",
       "    <tr>\n",
       "      <th>103683</th>\n",
       "      <td>Australia</td>\n",
       "      <td>New South Wales</td>\n",
       "      <td>-33.8688</td>\n",
       "      <td>151.2093</td>\n",
       "      <td>4.0</td>\n",
       "      <td>NaN</td>\n",
       "      <td>NaN</td>\n",
       "      <td>2020-01-27</td>\n",
       "    </tr>\n",
       "    <tr>\n",
       "      <th>103684</th>\n",
       "      <td>Australia</td>\n",
       "      <td>Victoria</td>\n",
       "      <td>-37.8136</td>\n",
       "      <td>144.9631</td>\n",
       "      <td>1.0</td>\n",
       "      <td>NaN</td>\n",
       "      <td>NaN</td>\n",
       "      <td>2020-01-27</td>\n",
       "    </tr>\n",
       "  </tbody>\n",
       "</table>\n",
       "</div>"
      ],
      "text/plain": [
       "       Country/Region   Province/State  Latitude  Longitude  Confirmed  \\\n",
       "87582       Australia              NaN  -33.8688   144.9631        NaN   \n",
       "95626       Australia              NaN  -33.8688   144.9631        4.0   \n",
       "99651       Australia              NaN  -33.8688   144.9631        4.0   \n",
       "103683      Australia  New South Wales  -33.8688   151.2093        4.0   \n",
       "103684      Australia         Victoria  -37.8136   144.9631        1.0   \n",
       "\n",
       "        Recovered  Deaths        Date  \n",
       "87582         NaN     NaN  2020-01-23  \n",
       "95626         NaN     NaN  2020-01-25  \n",
       "99651         NaN     NaN  2020-01-26  \n",
       "103683        NaN     NaN  2020-01-27  \n",
       "103684        NaN     NaN  2020-01-27  "
      ]
     },
     "execution_count": 71,
     "metadata": {},
     "output_type": "execute_result"
    }
   ],
   "source": [
    "AU_Covid19_case_report_2020 = Covid19_case_report_2020.loc[Covid19_case_report_2020['Country/Region']== 'Australia',:]\n",
    "\n",
    "AU_Covid19_case_report_2020.head()"
   ]
  },
  {
   "cell_type": "code",
   "execution_count": 46,
   "metadata": {},
   "outputs": [
    {
     "data": {
      "text/plain": [
       "2593"
      ]
     },
     "execution_count": 46,
     "metadata": {},
     "output_type": "execute_result"
    }
   ],
   "source": [
    "AU_Covid19_case_report_2020[\"Province/State\"].count()"
   ]
  },
  {
   "cell_type": "code",
   "execution_count": 47,
   "metadata": {},
   "outputs": [
    {
     "data": {
      "text/html": [
       "<div>\n",
       "<style scoped>\n",
       "    .dataframe tbody tr th:only-of-type {\n",
       "        vertical-align: middle;\n",
       "    }\n",
       "\n",
       "    .dataframe tbody tr th {\n",
       "        vertical-align: top;\n",
       "    }\n",
       "\n",
       "    .dataframe thead th {\n",
       "        text-align: right;\n",
       "    }\n",
       "</style>\n",
       "<table border=\"1\" class=\"dataframe\">\n",
       "  <thead>\n",
       "    <tr style=\"text-align: right;\">\n",
       "      <th></th>\n",
       "      <th>Latitude</th>\n",
       "      <th>Longitude</th>\n",
       "      <th>Confirmed</th>\n",
       "      <th>Recovered</th>\n",
       "      <th>Deaths</th>\n",
       "    </tr>\n",
       "  </thead>\n",
       "  <tbody>\n",
       "    <tr>\n",
       "      <th>count</th>\n",
       "      <td>2596.000000</td>\n",
       "      <td>2596.000000</td>\n",
       "      <td>2595.000000</td>\n",
       "      <td>2583.000000</td>\n",
       "      <td>2581.000000</td>\n",
       "    </tr>\n",
       "    <tr>\n",
       "      <th>mean</th>\n",
       "      <td>-31.399390</td>\n",
       "      <td>141.584684</td>\n",
       "      <td>1961.796532</td>\n",
       "      <td>1651.133178</td>\n",
       "      <td>51.509492</td>\n",
       "    </tr>\n",
       "    <tr>\n",
       "      <th>std</th>\n",
       "      <td>10.976323</td>\n",
       "      <td>11.562350</td>\n",
       "      <td>4583.395045</td>\n",
       "      <td>4126.401994</td>\n",
       "      <td>171.065091</td>\n",
       "    </tr>\n",
       "    <tr>\n",
       "      <th>min</th>\n",
       "      <td>-42.882100</td>\n",
       "      <td>115.860500</td>\n",
       "      <td>0.000000</td>\n",
       "      <td>0.000000</td>\n",
       "      <td>0.000000</td>\n",
       "    </tr>\n",
       "    <tr>\n",
       "      <th>25%</th>\n",
       "      <td>-35.473500</td>\n",
       "      <td>138.600700</td>\n",
       "      <td>107.000000</td>\n",
       "      <td>40.000000</td>\n",
       "      <td>2.000000</td>\n",
       "    </tr>\n",
       "    <tr>\n",
       "      <th>50%</th>\n",
       "      <td>-33.868800</td>\n",
       "      <td>144.963100</td>\n",
       "      <td>443.000000</td>\n",
       "      <td>420.000000</td>\n",
       "      <td>6.000000</td>\n",
       "    </tr>\n",
       "    <tr>\n",
       "      <th>75%</th>\n",
       "      <td>-27.879975</td>\n",
       "      <td>151.209300</td>\n",
       "      <td>1154.500000</td>\n",
       "      <td>1084.000000</td>\n",
       "      <td>13.000000</td>\n",
       "    </tr>\n",
       "    <tr>\n",
       "      <th>max</th>\n",
       "      <td>35.443700</td>\n",
       "      <td>153.400000</td>\n",
       "      <td>20376.000000</td>\n",
       "      <td>19538.000000</td>\n",
       "      <td>820.000000</td>\n",
       "    </tr>\n",
       "  </tbody>\n",
       "</table>\n",
       "</div>"
      ],
      "text/plain": [
       "          Latitude    Longitude     Confirmed     Recovered       Deaths\n",
       "count  2596.000000  2596.000000   2595.000000   2583.000000  2581.000000\n",
       "mean    -31.399390   141.584684   1961.796532   1651.133178    51.509492\n",
       "std      10.976323    11.562350   4583.395045   4126.401994   171.065091\n",
       "min     -42.882100   115.860500      0.000000      0.000000     0.000000\n",
       "25%     -35.473500   138.600700    107.000000     40.000000     2.000000\n",
       "50%     -33.868800   144.963100    443.000000    420.000000     6.000000\n",
       "75%     -27.879975   151.209300   1154.500000   1084.000000    13.000000\n",
       "max      35.443700   153.400000  20376.000000  19538.000000   820.000000"
      ]
     },
     "execution_count": 47,
     "metadata": {},
     "output_type": "execute_result"
    }
   ],
   "source": [
    "AU_Covid19_case_report_2020.describe()"
   ]
  },
  {
   "cell_type": "code",
   "execution_count": 48,
   "metadata": {},
   "outputs": [
    {
     "data": {
      "text/plain": [
       "Country/Region     0\n",
       "Province/State     3\n",
       "Latitude           0\n",
       "Longitude          0\n",
       "Confirmed          1\n",
       "Recovered         13\n",
       "Deaths            15\n",
       "Date               0\n",
       "dtype: int64"
      ]
     },
     "execution_count": 48,
     "metadata": {},
     "output_type": "execute_result"
    }
   ],
   "source": [
    "AU_Covid19_case_report_2020.isnull().sum()"
   ]
  },
  {
   "cell_type": "code",
   "execution_count": 49,
   "metadata": {},
   "outputs": [
    {
     "data": {
      "text/plain": [
       "Province/State\n",
       "Australian Capital Territory      31112.0\n",
       "External territories                  0.0\n",
       "From Diamond Princess                55.0\n",
       "Jervis Bay Territory                  0.0\n",
       "New South Wales                 1062230.0\n",
       "Northern Territory                10118.0\n",
       "Queensland                       311709.0\n",
       "South Australia                  132831.0\n",
       "Tasmania                          61365.0\n",
       "Victoria                        3295912.0\n",
       "Western Australia                185522.0\n",
       "Name: Confirmed, dtype: float64"
      ]
     },
     "execution_count": 49,
     "metadata": {},
     "output_type": "execute_result"
    }
   ],
   "source": [
    "#groupby states\n",
    "States_confirmed = AU_Covid19_case_report_2020.groupby('Province/State')['Confirmed'].sum()\n",
    "States_confirmed"
   ]
  },
  {
   "cell_type": "code",
   "execution_count": 61,
   "metadata": {},
   "outputs": [
    {
     "name": "stderr",
     "output_type": "stream",
     "text": [
      "<ipython-input-61-a59b25819bdd>:2: SettingWithCopyWarning: \n",
      "A value is trying to be set on a copy of a slice from a DataFrame.\n",
      "Try using .loc[row_indexer,col_indexer] = value instead\n",
      "\n",
      "See the caveats in the documentation: https://pandas.pydata.org/pandas-docs/stable/user_guide/indexing.html#returning-a-view-versus-a-copy\n",
      "  AU_Covid19_case_report_2020['Date2']= pd.to_datetime(AU_Covid19_case_report_2020['Date'],format='%Y%m%d', errors='ignore')\n"
     ]
    }
   ],
   "source": [
    "AU_Covid19_case_report_2020.dtypes\n",
    "AU_Covid19_case_report_2020['Date']= pd.to_datetime(AU_Covid19_case_report_2020['Date'],format='%Y%m%d', errors='ignore')\n",
    "#df[\"Date]=pd.to_datetime(df[\"Date\", format='%Y%m%d', errors='ignore')"
   ]
  },
  {
   "cell_type": "code",
   "execution_count": 66,
   "metadata": {},
   "outputs": [
    {
     "name": "stderr",
     "output_type": "stream",
     "text": [
      "<ipython-input-66-24d763088bb9>:1: SettingWithCopyWarning: \n",
      "A value is trying to be set on a copy of a slice from a DataFrame.\n",
      "Try using .loc[row_indexer,col_indexer] = value instead\n",
      "\n",
      "See the caveats in the documentation: https://pandas.pydata.org/pandas-docs/stable/user_guide/indexing.html#returning-a-view-versus-a-copy\n",
      "  AU_Covid19_case_report_2020[\"Date\"] = pd.to_datetime(AU_Covid19_case_report_2020[\"Date\"])\n"
     ]
    },
    {
     "data": {
      "text/html": [
       "<div>\n",
       "<style scoped>\n",
       "    .dataframe tbody tr th:only-of-type {\n",
       "        vertical-align: middle;\n",
       "    }\n",
       "\n",
       "    .dataframe tbody tr th {\n",
       "        vertical-align: top;\n",
       "    }\n",
       "\n",
       "    .dataframe thead th {\n",
       "        text-align: right;\n",
       "    }\n",
       "</style>\n",
       "<table border=\"1\" class=\"dataframe\">\n",
       "  <thead>\n",
       "    <tr style=\"text-align: right;\">\n",
       "      <th></th>\n",
       "      <th>Country/Region</th>\n",
       "      <th>Province/State</th>\n",
       "      <th>Latitude</th>\n",
       "      <th>Longitude</th>\n",
       "      <th>Confirmed</th>\n",
       "      <th>Recovered</th>\n",
       "      <th>Deaths</th>\n",
       "      <th>Date</th>\n",
       "      <th>Date2</th>\n",
       "    </tr>\n",
       "  </thead>\n",
       "  <tbody>\n",
       "    <tr>\n",
       "      <th>87582</th>\n",
       "      <td>Australia</td>\n",
       "      <td>NaN</td>\n",
       "      <td>-33.8688</td>\n",
       "      <td>144.9631</td>\n",
       "      <td>NaN</td>\n",
       "      <td>NaN</td>\n",
       "      <td>NaN</td>\n",
       "      <td>2020-01-23</td>\n",
       "      <td>2020-01-23</td>\n",
       "    </tr>\n",
       "    <tr>\n",
       "      <th>95626</th>\n",
       "      <td>Australia</td>\n",
       "      <td>NaN</td>\n",
       "      <td>-33.8688</td>\n",
       "      <td>144.9631</td>\n",
       "      <td>4.0</td>\n",
       "      <td>NaN</td>\n",
       "      <td>NaN</td>\n",
       "      <td>2020-01-25</td>\n",
       "      <td>2020-01-25</td>\n",
       "    </tr>\n",
       "    <tr>\n",
       "      <th>99651</th>\n",
       "      <td>Australia</td>\n",
       "      <td>NaN</td>\n",
       "      <td>-33.8688</td>\n",
       "      <td>144.9631</td>\n",
       "      <td>4.0</td>\n",
       "      <td>NaN</td>\n",
       "      <td>NaN</td>\n",
       "      <td>2020-01-26</td>\n",
       "      <td>2020-01-26</td>\n",
       "    </tr>\n",
       "    <tr>\n",
       "      <th>103683</th>\n",
       "      <td>Australia</td>\n",
       "      <td>New South Wales</td>\n",
       "      <td>-33.8688</td>\n",
       "      <td>151.2093</td>\n",
       "      <td>4.0</td>\n",
       "      <td>NaN</td>\n",
       "      <td>NaN</td>\n",
       "      <td>2020-01-27</td>\n",
       "      <td>2020-01-27</td>\n",
       "    </tr>\n",
       "    <tr>\n",
       "      <th>103684</th>\n",
       "      <td>Australia</td>\n",
       "      <td>Victoria</td>\n",
       "      <td>-37.8136</td>\n",
       "      <td>144.9631</td>\n",
       "      <td>1.0</td>\n",
       "      <td>NaN</td>\n",
       "      <td>NaN</td>\n",
       "      <td>2020-01-27</td>\n",
       "      <td>2020-01-27</td>\n",
       "    </tr>\n",
       "  </tbody>\n",
       "</table>\n",
       "</div>"
      ],
      "text/plain": [
       "       Country/Region   Province/State  Latitude  Longitude  Confirmed  \\\n",
       "87582       Australia              NaN  -33.8688   144.9631        NaN   \n",
       "95626       Australia              NaN  -33.8688   144.9631        4.0   \n",
       "99651       Australia              NaN  -33.8688   144.9631        4.0   \n",
       "103683      Australia  New South Wales  -33.8688   151.2093        4.0   \n",
       "103684      Australia         Victoria  -37.8136   144.9631        1.0   \n",
       "\n",
       "        Recovered  Deaths       Date       Date2  \n",
       "87582         NaN     NaN 2020-01-23  2020-01-23  \n",
       "95626         NaN     NaN 2020-01-25  2020-01-25  \n",
       "99651         NaN     NaN 2020-01-26  2020-01-26  \n",
       "103683        NaN     NaN 2020-01-27  2020-01-27  \n",
       "103684        NaN     NaN 2020-01-27  2020-01-27  "
      ]
     },
     "execution_count": 66,
     "metadata": {},
     "output_type": "execute_result"
    }
   ],
   "source": [
    "AU_Covid19_case_report_2020[\"Date\"] = pd.to_datetime(AU_Covid19_case_report_2020[\"Date\"])\n",
    "AU_Covid19_case_report_2020.head()\n"
   ]
  },
  {
   "cell_type": "code",
   "execution_count": 67,
   "metadata": {},
   "outputs": [
    {
     "data": {
      "text/plain": [
       "Country/Region            object\n",
       "Province/State            object\n",
       "Latitude                 float64\n",
       "Longitude                float64\n",
       "Confirmed                float64\n",
       "Recovered                float64\n",
       "Deaths                   float64\n",
       "Date              datetime64[ns]\n",
       "Date2                     object\n",
       "dtype: object"
      ]
     },
     "execution_count": 67,
     "metadata": {},
     "output_type": "execute_result"
    }
   ],
   "source": [
    "AU_Covid19_case_report_2020.dtypes"
   ]
  },
  {
   "cell_type": "code",
   "execution_count": 70,
   "metadata": {},
   "outputs": [
    {
     "name": "stderr",
     "output_type": "stream",
     "text": [
      "No handles with labels found to put in legend.\n"
     ]
    },
    {
     "data": {
      "image/png": "[encoded data removed]",
      "text/plain": [
       "<Figure size 432x288 with 1 Axes>"
      ]
     },
     "metadata": {
      "needs_background": "light"
     },
     "output_type": "display_data"
    }
   ],
   "source": [
    "# Generate line plot\n",
    "plt.plot(AU_Covid19_case_report_2020['Date'],AU_Covid19_case_report_2020[\"Confirmed\"], color=\"Green\")\n",
    "plt.title(\"Australia's Confirmed Covid Cases 2020\")\n",
    "plt.xlabel('Time Point')\n",
    "plt.ylabel('Total Confirmed Cases')\n",
    "plt.grid(which='major', linestyle='-')\n",
    "plt.grid(which='minor', linestyle=':')\n",
    "# Create a legend for our chart\n",
    "plt.legend()\n",
    "plt.show()"
   ]
  },
  {
   "cell_type": "code",
   "execution_count": null,
   "metadata": {},
   "outputs": [],
   "source": []
  }
 ],
 "metadata": {
  "kernelspec": {
   "display_name": "Python 3",
   "language": "python",
   "name": "python3"
  },
  "language_info": {
   "codemirror_mode": {
    "name": "ipython",
    "version": 3
   },
   "file_extension": ".py",
   "mimetype": "text/x-python",
   "name": "python",
   "nbconvert_exporter": "python",
   "pygments_lexer": "ipython3",
   "version": "3.8.5"
  }
 },
 "nbformat": 4,
 "nbformat_minor": 4
}
